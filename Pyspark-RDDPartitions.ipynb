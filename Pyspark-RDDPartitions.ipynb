{
 "cells": [
  {
   "cell_type": "markdown",
   "id": "2604c9e5",
   "metadata": {},
   "source": [
    "# Playing with partitions"
   ]
  },
  {
   "cell_type": "code",
   "execution_count": 1,
   "id": "2a8aa71b",
   "metadata": {},
   "outputs": [],
   "source": [
    "import findspark\n",
    "findspark.init()\n",
    "import pyspark\n",
    "from pyspark.sql import SparkSession\n",
    "spark = SparkSession.builder.master(\"local[1]\") \\\n",
    "                    .appName('Pyspark-Examples') \\\n",
    "                    .getOrCreate() "
   ]
  },
  {
   "cell_type": "code",
   "execution_count": 2,
   "id": "d21cd811",
   "metadata": {},
   "outputs": [],
   "source": [
    "data = [1,2,3,4,5,6,7,8,9,10,11,12]\n",
    "rdd=spark.sparkContext.parallelize(data,5)"
   ]
  },
  {
   "cell_type": "code",
   "execution_count": 3,
   "id": "4180d215",
   "metadata": {},
   "outputs": [
    {
     "name": "stdout",
     "output_type": "stream",
     "text": [
      "5\n"
     ]
    }
   ],
   "source": [
    "#count the number of Partitions in above rdd\n",
    "print(rdd.getNumPartitions())"
   ]
  },
  {
   "cell_type": "code",
   "execution_count": 6,
   "id": "6d6692ec",
   "metadata": {},
   "outputs": [
    {
     "name": "stdout",
     "output_type": "stream",
     "text": [
      "7\n",
      "[3, 4, 5, 6, 7, 8, 9, 10, 11, 12, 1, 2]\n"
     ]
    }
   ],
   "source": [
    "#Increase the Partitions in RDD\n",
    "rdd1= rdd.repartition(7)\n",
    "print(rdd1.getNumPartitions())\n",
    "print(rdd1.collect())"
   ]
  },
  {
   "cell_type": "code",
   "execution_count": 7,
   "id": "b8f2b4a9",
   "metadata": {},
   "outputs": [
    {
     "name": "stdout",
     "output_type": "stream",
     "text": [
      "2\n",
      "[3, 4, 7, 8, 1, 2, 5, 6, 9, 10, 11, 12]\n"
     ]
    }
   ],
   "source": [
    "#Decrese the Partitions in RDD\n",
    "rdd2 = rdd1.coalesce(2)\n",
    "print(rdd2.getNumPartitions())\n",
    "print(rdd2.collect())"
   ]
  },
  {
   "cell_type": "code",
   "execution_count": 8,
   "id": "33cf9ced",
   "metadata": {},
   "outputs": [],
   "source": [
    "#stoppng the spark session\n",
    "spark.stop()"
   ]
  },
  {
   "cell_type": "code",
   "execution_count": null,
   "id": "3b7eba6b",
   "metadata": {},
   "outputs": [],
   "source": []
  }
 ],
 "metadata": {
  "kernelspec": {
   "display_name": "Python 3",
   "language": "python",
   "name": "python3"
  },
  "language_info": {
   "codemirror_mode": {
    "name": "ipython",
    "version": 3
   },
   "file_extension": ".py",
   "mimetype": "text/x-python",
   "name": "python",
   "nbconvert_exporter": "python",
   "pygments_lexer": "ipython3",
   "version": "3.8.8"
  }
 },
 "nbformat": 4,
 "nbformat_minor": 5
}
