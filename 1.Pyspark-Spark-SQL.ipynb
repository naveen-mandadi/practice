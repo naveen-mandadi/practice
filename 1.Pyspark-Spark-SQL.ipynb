{
 "cells": [
  {
   "cell_type": "code",
   "execution_count": 1,
   "id": "be530797",
   "metadata": {},
   "outputs": [],
   "source": [
    "#Spark-SQl"
   ]
  },
  {
   "cell_type": "code",
   "execution_count": 2,
   "id": "491f2f13",
   "metadata": {},
   "outputs": [],
   "source": [
    "import findspark\n",
    "findspark.init()\n",
    "\n",
    "from pyspark.sql import SparkSession\n",
    "spark = SparkSession.builder.appName('Sorting').master('local[1]').getOrCreate()"
   ]
  },
  {
   "cell_type": "code",
   "execution_count": 3,
   "id": "a90cdcb2",
   "metadata": {},
   "outputs": [
    {
     "name": "stdout",
     "output_type": "stream",
     "text": [
      "root\n",
      " |-- employee_name: string (nullable = true)\n",
      " |-- department: string (nullable = true)\n",
      " |-- state: string (nullable = true)\n",
      " |-- salary: long (nullable = true)\n",
      " |-- age: long (nullable = true)\n",
      " |-- bonus: long (nullable = true)\n",
      "\n"
     ]
    }
   ],
   "source": [
    "simpleData = [(\"James\",\"Sales\",\"NY\",90000,34,10000), \\\n",
    "    (\"Michael\",\"Sales\",\"NY\",86000,56,20000), \\\n",
    "    (\"Robert\",\"Sales\",\"CA\",81000,30,23000), \\\n",
    "    (\"Maria\",\"Finance\",\"CA\",90000,24,23000), \\\n",
    "    (\"Raman\",\"Finance\",\"CA\",99000,40,24000), \\\n",
    "    (\"Scott\",\"Finance\",\"NY\",83000,36,19000), \\\n",
    "    (\"Jen\",\"Finance\",\"NY\",79000,53,15000), \\\n",
    "    (\"Jeff\",\"Marketing\",\"CA\",80000,25,18000), \\\n",
    "    (\"Kumar\",\"Marketing\",\"NY\",91000,50,21000) \\\n",
    "  ]\n",
    "\n",
    "\n",
    "columns= [\"employee_name\",\"department\",\"state\",\"salary\",\"age\",\"bonus\"]\n",
    "df = spark.createDataFrame(data = simpleData, schema = columns)\n",
    "\n",
    "df.printSchema()\n",
    "#df.show(truncate=False)"
   ]
  },
  {
   "cell_type": "code",
   "execution_count": 4,
   "id": "a56512fa",
   "metadata": {},
   "outputs": [],
   "source": [
    "df.createOrReplaceTempView(\"EMP\")"
   ]
  },
  {
   "cell_type": "code",
   "execution_count": 8,
   "id": "9532e4e7",
   "metadata": {},
   "outputs": [
    {
     "name": "stdout",
     "output_type": "stream",
     "text": [
      "+----------+------+------+\n",
      "|department|mn_sal|mx_sal|\n",
      "+----------+------+------+\n",
      "|     Sales| 86000| 90000|\n",
      "|   Finance| 90000| 99000|\n",
      "| Marketing| 91000| 91000|\n",
      "+----------+------+------+\n",
      "\n"
     ]
    }
   ],
   "source": [
    "result = spark.sql(\"select department,min(salary) as mn_sal,max(salary) as mx_sal from EMP where salary > 85000 group by department\")\n",
    "result.show()"
   ]
  },
  {
   "cell_type": "code",
   "execution_count": 17,
   "id": "acccbf5e",
   "metadata": {},
   "outputs": [
    {
     "name": "stdout",
     "output_type": "stream",
     "text": [
      "+------+---+\n",
      "|salary|rnk|\n",
      "+------+---+\n",
      "| 79000|  1|\n",
      "| 80000|  2|\n",
      "| 81000|  3|\n",
      "| 83000|  4|\n",
      "| 86000|  5|\n",
      "| 90000|  6|\n",
      "| 90000|  6|\n",
      "| 91000|  7|\n",
      "| 99000|  8|\n",
      "+------+---+\n",
      "\n"
     ]
    }
   ],
   "source": [
    "results = spark.sql(\"select salary, dense_rank() over(order by salary asc) as rnk from EMP\")\n",
    "results.show()\n",
    "\n",
    "#ROW_NUMBER() #sequent never miss\n",
    "#RANK() #sequence can miss if having any duplicates\n",
    "#DENSE_RANK() #sequence can't miss but can give same number to duplicate values"
   ]
  },
  {
   "cell_type": "code",
   "execution_count": null,
   "id": "73ca9910",
   "metadata": {},
   "outputs": [],
   "source": [
    "#creating dataframe \n",
    "#selectExpr,drop,withColumn,groupBy,join,where,sort\n",
    "#spark.sql()\n",
    "\n",
    "\n",
    "\n",
    "\n"
   ]
  }
 ],
 "metadata": {
  "kernelspec": {
   "display_name": "Python 3",
   "language": "python",
   "name": "python3"
  },
  "language_info": {
   "codemirror_mode": {
    "name": "ipython",
    "version": 3
   },
   "file_extension": ".py",
   "mimetype": "text/x-python",
   "name": "python",
   "nbconvert_exporter": "python",
   "pygments_lexer": "ipython3",
   "version": "3.8.8"
  }
 },
 "nbformat": 4,
 "nbformat_minor": 5
}
