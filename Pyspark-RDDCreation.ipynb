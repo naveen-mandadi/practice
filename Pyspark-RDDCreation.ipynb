{
 "cells": [
  {
   "cell_type": "markdown",
   "id": "c9b892ad",
   "metadata": {},
   "source": [
    "# Steps to find pyspark in local system and creating RDDs\n",
    "Click on Windows and search “Anacoda Prompt”. Open Anaconda prompt and type “python -m pip install findspark”. This package is necessary to run spark from Jupyter notebook. Use below link to setup pyspark on notebook\n",
    "\n",
    "https://bigdata-madesimple.com/guide-to-install-spark-and-use-pyspark-from-jupyter-in-windows/\n"
   ]
  },
  {
   "cell_type": "code",
   "execution_count": 1,
   "id": "9603df7b",
   "metadata": {},
   "outputs": [],
   "source": [
    "import findspark\n",
    "findspark.init()"
   ]
  },
  {
   "cell_type": "code",
   "execution_count": null,
   "id": "f04792ee",
   "metadata": {},
   "outputs": [],
   "source": [
    "##First needs to create spark Sesssion, it is the entrypoint for spark Program\n",
    "##Spark1.x various contexts are available like SparkContext,sqlContext,HiveContext,StreamingContext...\n",
    "##Spark2.x on-wards combine all these contexts as single Object called SparkSession. "
   ]
  },
  {
   "cell_type": "code",
   "execution_count": 3,
   "id": "63aba22f",
   "metadata": {},
   "outputs": [],
   "source": [
    "import pyspark\n",
    "from pyspark.sql import SparkSession\n",
    "spark = SparkSession.builder.master(\"local[1]\") \\\n",
    "                    .appName('Pyspark-Examples') \\\n",
    "                    .getOrCreate()"
   ]
  },
  {
   "cell_type": "code",
   "execution_count": 8,
   "id": "6befdfb6",
   "metadata": {},
   "outputs": [
    {
     "name": "stdout",
     "output_type": "stream",
     "text": [
      "<class 'pyspark.rdd.RDD'>\n",
      "[1, 2, 3, 4, 5, 6, 7, 8, 9, 10, 11, 12]\n"
     ]
    }
   ],
   "source": [
    "#Create RDD from parallelize    \n",
    "data = [1,2,3,4,5,6,7,8,9,10,11,12]\n",
    "rdd=spark.sparkContext.parallelize(data)\n",
    "print(type(rdd))\n",
    "print(rdd.collect())"
   ]
  },
  {
   "cell_type": "code",
   "execution_count": null,
   "id": "15d06470",
   "metadata": {},
   "outputs": [],
   "source": [
    "#Create RDD from external Data source\n",
    "rdd2 = spark.sparkContext.textFile(\"/path/textFile.txt\")"
   ]
  },
  {
   "cell_type": "code",
   "execution_count": null,
   "id": "dd30a6c6",
   "metadata": {},
   "outputs": [],
   "source": [
    "#wholeTextFiles() function returns a PairRDD with the key being the file path and value being file content.\n",
    "#Reads entire file into a RDD as single record.\n",
    "rdd3 = spark.sparkContext.wholeTextFiles(\"/path/textFile*\")\n"
   ]
  },
  {
   "cell_type": "code",
   "execution_count": null,
   "id": "5269a703",
   "metadata": {},
   "outputs": [],
   "source": [
    "\n",
    "# Creates empty RDD with no partition    \n",
    "rdd = spark.sparkContext.emptyRDD \n",
    "# rddString = spark.sparkContext.emptyRDD[String]\n"
   ]
  },
  {
   "cell_type": "code",
   "execution_count": null,
   "id": "3e948720",
   "metadata": {},
   "outputs": [],
   "source": [
    "\n",
    "#Create empty RDD with partition\n",
    "rdd2 = spark.sparkContext.parallelize([],10) #This creates 10 partitions\n"
   ]
  },
  {
   "cell_type": "code",
   "execution_count": 9,
   "id": "5aa8a033",
   "metadata": {},
   "outputs": [
    {
     "name": "stdout",
     "output_type": "stream",
     "text": [
      "initial partition count:8\n"
     ]
    }
   ],
   "source": [
    "#getNumPartitions() method can give you Partition count on RDD datasets\n",
    "print(\"initial partition count:\"+str(rdd.getNumPartitions()))\n",
    "\n"
   ]
  },
  {
   "cell_type": "code",
   "execution_count": null,
   "id": "0f969918",
   "metadata": {},
   "outputs": [],
   "source": []
  }
 ],
 "metadata": {
  "kernelspec": {
   "display_name": "Python 3",
   "language": "python",
   "name": "python3"
  },
  "language_info": {
   "codemirror_mode": {
    "name": "ipython",
    "version": 3
   },
   "file_extension": ".py",
   "mimetype": "text/x-python",
   "name": "python",
   "nbconvert_exporter": "python",
   "pygments_lexer": "ipython3",
   "version": "3.8.8"
  }
 },
 "nbformat": 4,
 "nbformat_minor": 5
}
