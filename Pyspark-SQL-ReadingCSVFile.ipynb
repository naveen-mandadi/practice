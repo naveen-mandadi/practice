{
 "cells": [
  {
   "cell_type": "code",
   "execution_count": null,
   "id": "0a43a25d",
   "metadata": {},
   "outputs": [],
   "source": [
    "#Pyspark-SQL-Reading from files"
   ]
  },
  {
   "cell_type": "code",
   "execution_count": 1,
   "id": "7d252635",
   "metadata": {},
   "outputs": [],
   "source": [
    "import findspark\n",
    "findspark.init()\n",
    "\n",
    "from pyspark.sql import SparkSession\n",
    "spark = SparkSession.builder.appName('spark-SQL').master('local[1]').getOrCreate()"
   ]
  },
  {
   "cell_type": "code",
   "execution_count": 2,
   "id": "ae611d79",
   "metadata": {},
   "outputs": [],
   "source": [
    "df = spark.read.csv('C:\\\\Users\\\\Raju\\\\Documents\\\\survey-2020.csv')"
   ]
  },
  {
   "cell_type": "code",
   "execution_count": 3,
   "id": "5f48fda2",
   "metadata": {},
   "outputs": [
    {
     "name": "stdout",
     "output_type": "stream",
     "text": [
      "root\n",
      " |-- _c0: string (nullable = true)\n",
      " |-- _c1: string (nullable = true)\n",
      " |-- _c2: string (nullable = true)\n",
      " |-- _c3: string (nullable = true)\n",
      " |-- _c4: string (nullable = true)\n",
      " |-- _c5: string (nullable = true)\n",
      " |-- _c6: string (nullable = true)\n",
      " |-- _c7: string (nullable = true)\n",
      " |-- _c8: string (nullable = true)\n",
      " |-- _c9: string (nullable = true)\n",
      "\n"
     ]
    }
   ],
   "source": [
    "df.printSchema()"
   ]
  },
  {
   "cell_type": "code",
   "execution_count": 4,
   "id": "a5736f67",
   "metadata": {},
   "outputs": [
    {
     "name": "stdout",
     "output_type": "stream",
     "text": [
      "+----+--------------------+--------------------+--------------------+------------------+-------------+--------------------+--------------------+---------+--------------------+\n",
      "| _c0|                 _c1|                 _c2|                 _c3|               _c4|          _c5|                 _c6|                 _c7|      _c8|                 _c9|\n",
      "+----+--------------------+--------------------+--------------------+------------------+-------------+--------------------+--------------------+---------+--------------------+\n",
      "|Year|Industry_aggregat...|Industry_code_NZSIOC|Industry_name_NZSIOC|             Units|Variable_code|       Variable_name|   Variable_category|    Value|Industry_code_ANZ...|\n",
      "|2020|             Level 1|               99999|      All industries|Dollars (millions)|          H01|        Total income|Financial perform...|  733,258|ANZSIC06 division...|\n",
      "|2020|             Level 1|               99999|      All industries|Dollars (millions)|          H04|Sales, government...|Financial perform...|  660,630|ANZSIC06 division...|\n",
      "|2020|             Level 1|               99999|      All industries|Dollars (millions)|          H05|Interest, dividen...|Financial perform...|   54,342|ANZSIC06 division...|\n",
      "|2020|             Level 1|               99999|      All industries|Dollars (millions)|          H07|Non-operating income|Financial perform...|   18,285|ANZSIC06 division...|\n",
      "|2020|             Level 1|               99999|      All industries|Dollars (millions)|          H08|   Total expenditure|Financial perform...|  654,872|ANZSIC06 division...|\n",
      "|2020|             Level 1|               99999|      All industries|Dollars (millions)|          H09|Interest and dona...|Financial perform...|   32,730|ANZSIC06 division...|\n",
      "|2020|             Level 1|               99999|      All industries|Dollars (millions)|          H10|      Indirect taxes|Financial perform...|    7,509|ANZSIC06 division...|\n",
      "|2020|             Level 1|               99999|      All industries|Dollars (millions)|          H11|        Depreciation|Financial perform...|   26,821|ANZSIC06 division...|\n",
      "|2020|             Level 1|               99999|      All industries|Dollars (millions)|          H12|Salaries and wage...|Financial perform...|  119,387|ANZSIC06 division...|\n",
      "|2020|             Level 1|               99999|      All industries|Dollars (millions)|          H13|Redundancy and se...|Financial perform...|      305|ANZSIC06 division...|\n",
      "|2020|             Level 1|               99999|      All industries|Dollars (millions)|          H14|Salaries and wage...|Financial perform...|    1,756|ANZSIC06 division...|\n",
      "|2020|             Level 1|               99999|      All industries|Dollars (millions)|          H19|Purchases and oth...|Financial perform...|  450,394|ANZSIC06 division...|\n",
      "|2020|             Level 1|               99999|      All industries|Dollars (millions)|          H20|Non-operating exp...|Financial perform...|   16,274|ANZSIC06 division...|\n",
      "|2020|             Level 1|               99999|      All industries|Dollars (millions)|          H21|      Opening stocks|Financial perform...|   68,109|ANZSIC06 division...|\n",
      "|2020|             Level 1|               99999|      All industries|Dollars (millions)|          H22|      Closing stocks|Financial perform...|   69,123|ANZSIC06 division...|\n",
      "|2020|             Level 1|               99999|      All industries|Dollars (millions)|          H23|Surplus before in...|Financial perform...|   79,400|ANZSIC06 division...|\n",
      "|2020|             Level 1|               99999|      All industries|Dollars (millions)|          H24|        Total assets|  Financial position|2,396,143|ANZSIC06 division...|\n",
      "|2020|             Level 1|               99999|      All industries|Dollars (millions)|          H25|      Current assets|  Financial position|  665,643|ANZSIC06 division...|\n",
      "|2020|             Level 1|               99999|      All industries|Dollars (millions)|          H26|Fixed tangible as...|  Financial position|  562,646|ANZSIC06 division...|\n",
      "+----+--------------------+--------------------+--------------------+------------------+-------------+--------------------+--------------------+---------+--------------------+\n",
      "only showing top 20 rows\n",
      "\n"
     ]
    }
   ],
   "source": [
    "df.show()"
   ]
  },
  {
   "cell_type": "code",
   "execution_count": 9,
   "id": "53340a40",
   "metadata": {},
   "outputs": [],
   "source": [
    "df1 = spark.read.format('csv').option('header','true').load('C:\\\\Users\\\\Raju\\\\Documents\\\\survey-2020.csv')"
   ]
  },
  {
   "cell_type": "code",
   "execution_count": 10,
   "id": "dce90597",
   "metadata": {},
   "outputs": [
    {
     "name": "stdout",
     "output_type": "stream",
     "text": [
      "root\n",
      " |-- Year: string (nullable = true)\n",
      " |-- Industry_aggregation_NZSIOC: string (nullable = true)\n",
      " |-- Industry_code_NZSIOC: string (nullable = true)\n",
      " |-- Industry_name_NZSIOC: string (nullable = true)\n",
      " |-- Units: string (nullable = true)\n",
      " |-- Variable_code: string (nullable = true)\n",
      " |-- Variable_name: string (nullable = true)\n",
      " |-- Variable_category: string (nullable = true)\n",
      " |-- Value: string (nullable = true)\n",
      " |-- Industry_code_ANZSIC06: string (nullable = true)\n",
      "\n"
     ]
    }
   ],
   "source": [
    "df1.printSchema()"
   ]
  },
  {
   "cell_type": "code",
   "execution_count": 11,
   "id": "a9c1b469",
   "metadata": {
    "scrolled": true
   },
   "outputs": [
    {
     "name": "stdout",
     "output_type": "stream",
     "text": [
      "+----+---------------------------+--------------------+--------------------+------------------+-------------+--------------------+--------------------+---------+----------------------+\n",
      "|Year|Industry_aggregation_NZSIOC|Industry_code_NZSIOC|Industry_name_NZSIOC|             Units|Variable_code|       Variable_name|   Variable_category|    Value|Industry_code_ANZSIC06|\n",
      "+----+---------------------------+--------------------+--------------------+------------------+-------------+--------------------+--------------------+---------+----------------------+\n",
      "|2020|                    Level 1|               99999|      All industries|Dollars (millions)|          H01|        Total income|Financial perform...|  733,258|  ANZSIC06 division...|\n",
      "|2020|                    Level 1|               99999|      All industries|Dollars (millions)|          H04|Sales, government...|Financial perform...|  660,630|  ANZSIC06 division...|\n",
      "|2020|                    Level 1|               99999|      All industries|Dollars (millions)|          H05|Interest, dividen...|Financial perform...|   54,342|  ANZSIC06 division...|\n",
      "|2020|                    Level 1|               99999|      All industries|Dollars (millions)|          H07|Non-operating income|Financial perform...|   18,285|  ANZSIC06 division...|\n",
      "|2020|                    Level 1|               99999|      All industries|Dollars (millions)|          H08|   Total expenditure|Financial perform...|  654,872|  ANZSIC06 division...|\n",
      "|2020|                    Level 1|               99999|      All industries|Dollars (millions)|          H09|Interest and dona...|Financial perform...|   32,730|  ANZSIC06 division...|\n",
      "|2020|                    Level 1|               99999|      All industries|Dollars (millions)|          H10|      Indirect taxes|Financial perform...|    7,509|  ANZSIC06 division...|\n",
      "|2020|                    Level 1|               99999|      All industries|Dollars (millions)|          H11|        Depreciation|Financial perform...|   26,821|  ANZSIC06 division...|\n",
      "|2020|                    Level 1|               99999|      All industries|Dollars (millions)|          H12|Salaries and wage...|Financial perform...|  119,387|  ANZSIC06 division...|\n",
      "|2020|                    Level 1|               99999|      All industries|Dollars (millions)|          H13|Redundancy and se...|Financial perform...|      305|  ANZSIC06 division...|\n",
      "|2020|                    Level 1|               99999|      All industries|Dollars (millions)|          H14|Salaries and wage...|Financial perform...|    1,756|  ANZSIC06 division...|\n",
      "|2020|                    Level 1|               99999|      All industries|Dollars (millions)|          H19|Purchases and oth...|Financial perform...|  450,394|  ANZSIC06 division...|\n",
      "|2020|                    Level 1|               99999|      All industries|Dollars (millions)|          H20|Non-operating exp...|Financial perform...|   16,274|  ANZSIC06 division...|\n",
      "|2020|                    Level 1|               99999|      All industries|Dollars (millions)|          H21|      Opening stocks|Financial perform...|   68,109|  ANZSIC06 division...|\n",
      "|2020|                    Level 1|               99999|      All industries|Dollars (millions)|          H22|      Closing stocks|Financial perform...|   69,123|  ANZSIC06 division...|\n",
      "|2020|                    Level 1|               99999|      All industries|Dollars (millions)|          H23|Surplus before in...|Financial perform...|   79,400|  ANZSIC06 division...|\n",
      "|2020|                    Level 1|               99999|      All industries|Dollars (millions)|          H24|        Total assets|  Financial position|2,396,143|  ANZSIC06 division...|\n",
      "|2020|                    Level 1|               99999|      All industries|Dollars (millions)|          H25|      Current assets|  Financial position|  665,643|  ANZSIC06 division...|\n",
      "|2020|                    Level 1|               99999|      All industries|Dollars (millions)|          H26|Fixed tangible as...|  Financial position|  562,646|  ANZSIC06 division...|\n",
      "|2020|                    Level 1|               99999|      All industries|Dollars (millions)|          H29|        Other assets|  Financial position|1,167,854|  ANZSIC06 division...|\n",
      "+----+---------------------------+--------------------+--------------------+------------------+-------------+--------------------+--------------------+---------+----------------------+\n",
      "only showing top 20 rows\n",
      "\n"
     ]
    }
   ],
   "source": [
    "df1.show()"
   ]
  },
  {
   "cell_type": "code",
   "execution_count": 12,
   "id": "c0bc6655",
   "metadata": {},
   "outputs": [
    {
     "name": "stdout",
     "output_type": "stream",
     "text": [
      "<class 'pyspark.sql.dataframe.DataFrame'>\n"
     ]
    }
   ],
   "source": [
    "print(type(df1))"
   ]
  },
  {
   "cell_type": "code",
   "execution_count": null,
   "id": "2100ddae",
   "metadata": {},
   "outputs": [],
   "source": [
    "#File-Formats\n",
    "Text(csv,pipe delimited,tab delimited)\n",
    "Avro-\n",
    "Parquet - Columnar storage (compresson)\n",
    "orc -optimised Row columnar Format (updaet/Delete) [Hive\n",
    "Json - "
   ]
  },
  {
   "cell_type": "code",
   "execution_count": 15,
   "id": "08955a48",
   "metadata": {},
   "outputs": [
    {
     "name": "stdout",
     "output_type": "stream",
     "text": [
      "+----+-------------+--------------------+--------------------+---------+\n",
      "|Year|Variable_code|Industry_name_NZSIOC|   Variable_category|    Value|\n",
      "+----+-------------+--------------------+--------------------+---------+\n",
      "|2020|          H01|      All industries|Financial perform...|  733,258|\n",
      "|2020|          H04|      All industries|Financial perform...|  660,630|\n",
      "|2020|          H05|      All industries|Financial perform...|   54,342|\n",
      "|2020|          H07|      All industries|Financial perform...|   18,285|\n",
      "|2020|          H08|      All industries|Financial perform...|  654,872|\n",
      "|2020|          H09|      All industries|Financial perform...|   32,730|\n",
      "|2020|          H10|      All industries|Financial perform...|    7,509|\n",
      "|2020|          H11|      All industries|Financial perform...|   26,821|\n",
      "|2020|          H12|      All industries|Financial perform...|  119,387|\n",
      "|2020|          H13|      All industries|Financial perform...|      305|\n",
      "|2020|          H14|      All industries|Financial perform...|    1,756|\n",
      "|2020|          H19|      All industries|Financial perform...|  450,394|\n",
      "|2020|          H20|      All industries|Financial perform...|   16,274|\n",
      "|2020|          H21|      All industries|Financial perform...|   68,109|\n",
      "|2020|          H22|      All industries|Financial perform...|   69,123|\n",
      "|2020|          H23|      All industries|Financial perform...|   79,400|\n",
      "|2020|          H24|      All industries|  Financial position|2,396,143|\n",
      "|2020|          H25|      All industries|  Financial position|  665,643|\n",
      "|2020|          H26|      All industries|  Financial position|  562,646|\n",
      "|2020|          H29|      All industries|  Financial position|1,167,854|\n",
      "+----+-------------+--------------------+--------------------+---------+\n",
      "only showing top 20 rows\n",
      "\n"
     ]
    }
   ],
   "source": [
    "from pyspark.sql.functions import col\n",
    "\n",
    "dfSelect = df1.select(col('Year'),col('Variable_code'),col('Industry_name_NZSIOC'),col('Variable_category'),col('Value'))\n",
    "dfSelect.show()"
   ]
  },
  {
   "cell_type": "code",
   "execution_count": 21,
   "id": "4072002d",
   "metadata": {},
   "outputs": [
    {
     "name": "stdout",
     "output_type": "stream",
     "text": [
      "+--------------------+\n",
      "|   Variable_category|\n",
      "+--------------------+\n",
      "|Financial perform...|\n",
      "|  Financial position|\n",
      "|    Financial ratios|\n",
      "+--------------------+\n",
      "\n",
      "root\n",
      " |-- Year: string (nullable = true)\n",
      " |-- Variable_code: string (nullable = true)\n",
      " |-- Industry_name_NZSIOC: string (nullable = true)\n",
      " |-- Variable_category: string (nullable = true)\n",
      " |-- Value: string (nullable = true)\n",
      "\n"
     ]
    }
   ],
   "source": [
    "dfVarCategories = dfSelect.select(col('Variable_category')).distinct()\n",
    "dfVarCategories.show()\n",
    "dfSelect.printSchema()"
   ]
  },
  {
   "cell_type": "code",
   "execution_count": 24,
   "id": "0b6ff784",
   "metadata": {},
   "outputs": [],
   "source": [
    "dfCast = dfSelect.withColumn(\"Value\",col('Value').cast('Integer'))"
   ]
  },
  {
   "cell_type": "code",
   "execution_count": 32,
   "id": "26c764f8",
   "metadata": {},
   "outputs": [
    {
     "name": "stdout",
     "output_type": "stream",
     "text": [
      "+--------------------+-----------+\n",
      "|   Variable_category|Total_Value|\n",
      "+--------------------+-----------+\n",
      "|Financial perform...|    2193723|\n",
      "|  Financial position|    1412434|\n",
      "|    Financial ratios|     311989|\n",
      "+--------------------+-----------+\n",
      "\n"
     ]
    }
   ],
   "source": [
    "dfCast.groupBy(col('Variable_category')).sum('Value') \\\n",
    "     .select(col('Variable_category'),col('sum(Value)').alias('Total_Value')).show()"
   ]
  },
  {
   "cell_type": "code",
   "execution_count": 33,
   "id": "9b42627e",
   "metadata": {},
   "outputs": [],
   "source": [
    "df1.createOrReplaceTempView('Survey')"
   ]
  },
  {
   "cell_type": "code",
   "execution_count": 37,
   "id": "55aca976",
   "metadata": {},
   "outputs": [],
   "source": [
    "query = '''select Variable_category,sum(cast(Value as int)) as Total_Value, min(cast(Value as int)) as mn, max(cast(Value as int)) as mx \n",
    "from Survey group by Variable_category'''"
   ]
  },
  {
   "cell_type": "code",
   "execution_count": 38,
   "id": "9f0faa76",
   "metadata": {},
   "outputs": [
    {
     "name": "stdout",
     "output_type": "stream",
     "text": [
      "+--------------------+-----------+----+---+\n",
      "|   Variable_category|Total_Value|  mn| mx|\n",
      "+--------------------+-----------+----+---+\n",
      "|Financial perform...|    2193723|-810|999|\n",
      "|  Financial position|    1412434|   1|999|\n",
      "|    Financial ratios|     311989|-600|500|\n",
      "+--------------------+-----------+----+---+\n",
      "\n"
     ]
    }
   ],
   "source": [
    "result = spark.sql(query)\n",
    "result.show()"
   ]
  },
  {
   "cell_type": "code",
   "execution_count": null,
   "id": "9c13fd04",
   "metadata": {},
   "outputs": [],
   "source": []
  }
 ],
 "metadata": {
  "kernelspec": {
   "display_name": "Python 3",
   "language": "python",
   "name": "python3"
  },
  "language_info": {
   "codemirror_mode": {
    "name": "ipython",
    "version": 3
   },
   "file_extension": ".py",
   "mimetype": "text/x-python",
   "name": "python",
   "nbconvert_exporter": "python",
   "pygments_lexer": "ipython3",
   "version": "3.8.8"
  }
 },
 "nbformat": 4,
 "nbformat_minor": 5
}
