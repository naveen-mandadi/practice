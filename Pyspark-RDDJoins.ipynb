{
 "cells": [
  {
   "cell_type": "code",
   "execution_count": 2,
   "id": "ac504610",
   "metadata": {},
   "outputs": [],
   "source": [
    "import findspark\n",
    "findspark.init()\n",
    "\n",
    "from pyspark.sql import SparkSession\n",
    "spark = SparkSession.builder.master(\"local[1]\") \\\n",
    "                    .appName('Pyspark-Examples') \\\n",
    "                    .getOrCreate()"
   ]
  },
  {
   "cell_type": "code",
   "execution_count": 3,
   "id": "7581ef86",
   "metadata": {},
   "outputs": [],
   "source": [
    "emp = [(1,\"Smith\",-1,\"2018\",\"10\",\"M\",3000), \n",
    "    (2,\"Rose\",1,\"2010\",\"20\",\"M\",4000), \n",
    "    (3,\"Williams\",1,\"2010\",\"10\",\"M\",1000),\n",
    "    (4,\"Jones\",2,\"2005\",\"10\",\"F\",2000), \n",
    "    (5,\"Brown\",2,\"2010\",\"40\",\"\",-1), \n",
    "      (6,\"Brown\",2,\"2010\",\"50\",\"\",-1) \n",
    "  ]\n",
    "\n",
    "#[\"emp_id\",\"name\",\"superior_emp_id\",\"year_joined\", \"emp_dept_id\",\"gender\",\"salary\"]"
   ]
  },
  {
   "cell_type": "code",
   "execution_count": 4,
   "id": "49aebac9",
   "metadata": {},
   "outputs": [],
   "source": [
    "dept = [(\"Finance\",10), \\\n",
    "    (\"Marketing\",20), \\\n",
    "    (\"Sales\",30), \\\n",
    "    (\"IT\",40) \\\n",
    "  ]\n",
    "\n",
    "#[\"dept_name\",\"dept_id\"]"
   ]
  },
  {
   "cell_type": "code",
   "execution_count": 6,
   "id": "523cb6a8",
   "metadata": {},
   "outputs": [
    {
     "name": "stdout",
     "output_type": "stream",
     "text": [
      "[(1, 'Smith', -1, '2018', '10', 'M', 3000), (2, 'Rose', 1, '2010', '20', 'M', 4000), (3, 'Williams', 1, '2010', '10', 'M', 1000), (4, 'Jones', 2, '2005', '10', 'F', 2000), (5, 'Brown', 2, '2010', '40', '', -1), (6, 'Brown', 2, '2010', '50', '', -1)]\n",
      "[('Finance', 10), ('Marketing', 20), ('Sales', 30), ('IT', 40)]\n"
     ]
    }
   ],
   "source": [
    "empRDD = spark.sparkContext.parallelize(emp)\n",
    "deptRDD = spark.sparkContext.parallelize(dept)\n",
    "\n",
    "print(empRDD.collect())\n",
    "print(deptRDD.collect())"
   ]
  },
  {
   "cell_type": "code",
   "execution_count": 7,
   "id": "92b07040",
   "metadata": {},
   "outputs": [
    {
     "data": {
      "text/plain": [
       "pyspark.rdd.RDD"
      ]
     },
     "execution_count": 7,
     "metadata": {},
     "output_type": "execute_result"
    }
   ],
   "source": [
    "type(empRDD)\n",
    "type(deptRDD)"
   ]
  },
  {
   "cell_type": "code",
   "execution_count": 11,
   "id": "86472d38",
   "metadata": {},
   "outputs": [
    {
     "name": "stdout",
     "output_type": "stream",
     "text": [
      "[(10, (1, 'Smith', -1, '2018', 'M', 3000)), (20, (2, 'Rose', 1, '2010', 'M', 4000)), (10, (3, 'Williams', 1, '2010', 'M', 1000)), (10, (4, 'Jones', 2, '2005', 'F', 2000)), (40, (5, 'Brown', 2, '2010', '', -1)), (50, (6, 'Brown', 2, '2010', '', -1))]\n"
     ]
    }
   ],
   "source": [
    "empRdd1 = empRDD.map(lambda r : (int(r[4]),(r[0],r[1],r[2],r[3],r[5],r[6])))\n",
    "print(empRdd1.collect())"
   ]
  },
  {
   "cell_type": "code",
   "execution_count": 17,
   "id": "e8d4903d",
   "metadata": {},
   "outputs": [
    {
     "name": "stdout",
     "output_type": "stream",
     "text": [
      "[(10, 'Finance'), (20, 'Marketing'), (30, 'Sales'), (40, 'IT')]\n"
     ]
    }
   ],
   "source": [
    "deptRdd1 = deptRDD.map(lambda r: (int(r[1]),r[0]))\n",
    "print(deptRdd1.collect())"
   ]
  },
  {
   "cell_type": "markdown",
   "id": "3bf9e879",
   "metadata": {},
   "source": [
    "# INNER JOIN"
   ]
  },
  {
   "cell_type": "code",
   "execution_count": 23,
   "id": "8bd3d8c1",
   "metadata": {},
   "outputs": [
    {
     "name": "stdout",
     "output_type": "stream",
     "text": [
      "[(10, ((1, 'Smith', -1, '2018', 'M', 3000), 'Finance')), (10, ((3, 'Williams', 1, '2010', 'M', 1000), 'Finance')), (10, ((4, 'Jones', 2, '2005', 'F', 2000), 'Finance')), (20, ((2, 'Rose', 1, '2010', 'M', 4000), 'Marketing')), (40, ((5, 'Brown', 2, '2010', '', -1), 'IT'))]\n",
      "<class 'pyspark.rdd.PipelinedRDD'>\n",
      "(10, ((1, 'Smith', -1, '2018', 'M', 3000), 'Finance'))\n",
      "(10, ((3, 'Williams', 1, '2010', 'M', 1000), 'Finance'))\n",
      "(10, ((4, 'Jones', 2, '2005', 'F', 2000), 'Finance'))\n",
      "(20, ((2, 'Rose', 1, '2010', 'M', 4000), 'Marketing'))\n",
      "(40, ((5, 'Brown', 2, '2010', '', -1), 'IT'))\n"
     ]
    }
   ],
   "source": [
    "empJoin = empRdd1.join(deptRdd1)\n",
    "#print(empJoin.collect())\n",
    "#print(type(empJoin))\n",
    "\n",
    "for i in empJoin.collect():\n",
    "    print(i)"
   ]
  },
  {
   "cell_type": "code",
   "execution_count": 26,
   "id": "6f672665",
   "metadata": {},
   "outputs": [
    {
     "name": "stdout",
     "output_type": "stream",
     "text": [
      "[(10, 1, 'Smith', 'Finance'), (10, 3, 'Williams', 'Finance'), (10, 4, 'Jones', 'Finance'), (20, 2, 'Rose', 'Marketing'), (40, 5, 'Brown', 'IT')]\n"
     ]
    }
   ],
   "source": [
    "#formatting the output\n",
    "resjoin = empJoin.map(lambda x: (x[0],x[1][0][0],x[1][0][1],x[1][1]))\n",
    "print(resjoin.collect())"
   ]
  },
  {
   "cell_type": "markdown",
   "id": "7e7cc8a1",
   "metadata": {},
   "source": [
    "# Left Outer Join"
   ]
  },
  {
   "cell_type": "code",
   "execution_count": 24,
   "id": "bf38e9e9",
   "metadata": {},
   "outputs": [
    {
     "name": "stdout",
     "output_type": "stream",
     "text": [
      "(10, ((1, 'Smith', -1, '2018', 'M', 3000), 'Finance'))\n",
      "(10, ((3, 'Williams', 1, '2010', 'M', 1000), 'Finance'))\n",
      "(10, ((4, 'Jones', 2, '2005', 'F', 2000), 'Finance'))\n",
      "(20, ((2, 'Rose', 1, '2010', 'M', 4000), 'Marketing'))\n",
      "(40, ((5, 'Brown', 2, '2010', '', -1), 'IT'))\n",
      "(50, ((6, 'Brown', 2, '2010', '', -1), None))\n"
     ]
    }
   ],
   "source": [
    "empLeftJoin = empRdd1.leftOuterJoin(deptRdd1)\n",
    "for i in empLeftJoin.collect():\n",
    "    print(i)"
   ]
  },
  {
   "cell_type": "code",
   "execution_count": null,
   "id": "f9be11ff",
   "metadata": {},
   "outputs": [],
   "source": []
  },
  {
   "cell_type": "markdown",
   "id": "4dc15b4d",
   "metadata": {},
   "source": [
    "# Right Outer Join"
   ]
  },
  {
   "cell_type": "code",
   "execution_count": 25,
   "id": "ffd75513",
   "metadata": {},
   "outputs": [
    {
     "name": "stdout",
     "output_type": "stream",
     "text": [
      "(10, ((1, 'Smith', -1, '2018', 'M', 3000), 'Finance'))\n",
      "(10, ((3, 'Williams', 1, '2010', 'M', 1000), 'Finance'))\n",
      "(10, ((4, 'Jones', 2, '2005', 'F', 2000), 'Finance'))\n",
      "(20, ((2, 'Rose', 1, '2010', 'M', 4000), 'Marketing'))\n",
      "(40, ((5, 'Brown', 2, '2010', '', -1), 'IT'))\n",
      "(30, (None, 'Sales'))\n"
     ]
    }
   ],
   "source": [
    "empRightJoin = empRdd1.rightOuterJoin(deptRdd1)\n",
    "for i in empRightJoin.collect():\n",
    "    print(i)"
   ]
  },
  {
   "cell_type": "markdown",
   "id": "184e2a28",
   "metadata": {},
   "source": [
    "# Full outer join"
   ]
  },
  {
   "cell_type": "code",
   "execution_count": 27,
   "id": "e003f6eb",
   "metadata": {},
   "outputs": [
    {
     "name": "stdout",
     "output_type": "stream",
     "text": [
      "(10, ((1, 'Smith', -1, '2018', 'M', 3000), 'Finance'))\n",
      "(10, ((3, 'Williams', 1, '2010', 'M', 1000), 'Finance'))\n",
      "(10, ((4, 'Jones', 2, '2005', 'F', 2000), 'Finance'))\n",
      "(20, ((2, 'Rose', 1, '2010', 'M', 4000), 'Marketing'))\n",
      "(40, ((5, 'Brown', 2, '2010', '', -1), 'IT'))\n",
      "(50, ((6, 'Brown', 2, '2010', '', -1), None))\n",
      "(30, (None, 'Sales'))\n"
     ]
    }
   ],
   "source": [
    "empFullJoin = empRdd1.fullOuterJoin(deptRdd1)\n",
    "for i in empFullJoin.collect():\n",
    "    print(i)"
   ]
  },
  {
   "cell_type": "markdown",
   "id": "30c94c93",
   "metadata": {},
   "source": [
    "# add salaries in every dept"
   ]
  },
  {
   "cell_type": "code",
   "execution_count": 32,
   "id": "2c3e8226",
   "metadata": {},
   "outputs": [
    {
     "name": "stdout",
     "output_type": "stream",
     "text": [
      "[(10, 6000), (20, 4000), (40, -1), (50, -1)]\n"
     ]
    }
   ],
   "source": [
    "topSalDept = empLeftJoin.map(lambda x: (x[0],int(x[1][0][5])))\n",
    "computeSalbyDept = topSalDept.reduceByKey(lambda x,y : x+y)\n",
    "salByTop = computeSalbyDept.sortByKey()\n",
    "print(salByTop.collect())"
   ]
  },
  {
   "cell_type": "code",
   "execution_count": null,
   "id": "64c2174a",
   "metadata": {},
   "outputs": [],
   "source": []
  }
 ],
 "metadata": {
  "kernelspec": {
   "display_name": "Python 3",
   "language": "python",
   "name": "python3"
  },
  "language_info": {
   "codemirror_mode": {
    "name": "ipython",
    "version": 3
   },
   "file_extension": ".py",
   "mimetype": "text/x-python",
   "name": "python",
   "nbconvert_exporter": "python",
   "pygments_lexer": "ipython3",
   "version": "3.8.8"
  }
 },
 "nbformat": 4,
 "nbformat_minor": 5
}
